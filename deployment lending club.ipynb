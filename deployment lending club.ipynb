{
 "cells": [
  {
   "cell_type": "code",
   "execution_count": 15,
   "metadata": {},
   "outputs": [],
   "source": [
    "import numpy as np\n",
    "import pandas as pd\n",
    "import matplotlib.pyplot as plt\n",
    "import seaborn as sns"
   ]
  },
  {
   "cell_type": "code",
   "execution_count": 16,
   "metadata": {},
   "outputs": [
    {
     "data": {
      "text/html": [
       "<div>\n",
       "<style scoped>\n",
       "    .dataframe tbody tr th:only-of-type {\n",
       "        vertical-align: middle;\n",
       "    }\n",
       "\n",
       "    .dataframe tbody tr th {\n",
       "        vertical-align: top;\n",
       "    }\n",
       "\n",
       "    .dataframe thead th {\n",
       "        text-align: right;\n",
       "    }\n",
       "</style>\n",
       "<table border=\"1\" class=\"dataframe\">\n",
       "  <thead>\n",
       "    <tr style=\"text-align: right;\">\n",
       "      <th></th>\n",
       "      <th>Unnamed: 0</th>\n",
       "      <th>loan_amnt</th>\n",
       "      <th>funded_amnt</th>\n",
       "      <th>term</th>\n",
       "      <th>int_rate</th>\n",
       "      <th>installment</th>\n",
       "      <th>grade</th>\n",
       "      <th>emp_length</th>\n",
       "      <th>home_ownership</th>\n",
       "      <th>annual_inc</th>\n",
       "      <th>...</th>\n",
       "      <th>mths_since_last_delinq</th>\n",
       "      <th>mths_since_last_record</th>\n",
       "      <th>mths_since_last_major_derog</th>\n",
       "      <th>annual_inc_joint</th>\n",
       "      <th>dti_joint</th>\n",
       "      <th>verification_status_joint</th>\n",
       "      <th>mths_since_recent_bc_dlq</th>\n",
       "      <th>mths_since_recent_revol_delinq</th>\n",
       "      <th>revol_bal_joint</th>\n",
       "      <th>terms_compl</th>\n",
       "    </tr>\n",
       "  </thead>\n",
       "  <tbody>\n",
       "    <tr>\n",
       "      <th>0</th>\n",
       "      <td>0</td>\n",
       "      <td>16000</td>\n",
       "      <td>16000</td>\n",
       "      <td>60</td>\n",
       "      <td>12.74</td>\n",
       "      <td>361.93</td>\n",
       "      <td>C</td>\n",
       "      <td>10</td>\n",
       "      <td>MORTGAGE</td>\n",
       "      <td>130000.0</td>\n",
       "      <td>...</td>\n",
       "      <td>42.0</td>\n",
       "      <td>79.0</td>\n",
       "      <td>0.0</td>\n",
       "      <td>0.0</td>\n",
       "      <td>0.0</td>\n",
       "      <td>0</td>\n",
       "      <td>0.0</td>\n",
       "      <td>42.0</td>\n",
       "      <td>0.0</td>\n",
       "      <td>13.0</td>\n",
       "    </tr>\n",
       "    <tr>\n",
       "      <th>1</th>\n",
       "      <td>1</td>\n",
       "      <td>11875</td>\n",
       "      <td>11875</td>\n",
       "      <td>36</td>\n",
       "      <td>11.44</td>\n",
       "      <td>391.26</td>\n",
       "      <td>B</td>\n",
       "      <td>10</td>\n",
       "      <td>MORTGAGE</td>\n",
       "      <td>55000.0</td>\n",
       "      <td>...</td>\n",
       "      <td>75.0</td>\n",
       "      <td>0.0</td>\n",
       "      <td>0.0</td>\n",
       "      <td>0.0</td>\n",
       "      <td>0.0</td>\n",
       "      <td>0</td>\n",
       "      <td>0.0</td>\n",
       "      <td>0.0</td>\n",
       "      <td>0.0</td>\n",
       "      <td>23.0</td>\n",
       "    </tr>\n",
       "    <tr>\n",
       "      <th>2</th>\n",
       "      <td>2</td>\n",
       "      <td>26000</td>\n",
       "      <td>26000</td>\n",
       "      <td>60</td>\n",
       "      <td>15.99</td>\n",
       "      <td>632.14</td>\n",
       "      <td>C</td>\n",
       "      <td>10</td>\n",
       "      <td>RENT</td>\n",
       "      <td>52000.0</td>\n",
       "      <td>...</td>\n",
       "      <td>0.0</td>\n",
       "      <td>0.0</td>\n",
       "      <td>0.0</td>\n",
       "      <td>0.0</td>\n",
       "      <td>0.0</td>\n",
       "      <td>0</td>\n",
       "      <td>0.0</td>\n",
       "      <td>0.0</td>\n",
       "      <td>0.0</td>\n",
       "      <td>23.0</td>\n",
       "    </tr>\n",
       "    <tr>\n",
       "      <th>3</th>\n",
       "      <td>3</td>\n",
       "      <td>35000</td>\n",
       "      <td>35000</td>\n",
       "      <td>36</td>\n",
       "      <td>19.99</td>\n",
       "      <td>1300.55</td>\n",
       "      <td>D</td>\n",
       "      <td>10</td>\n",
       "      <td>MORTGAGE</td>\n",
       "      <td>80000.0</td>\n",
       "      <td>...</td>\n",
       "      <td>4.0</td>\n",
       "      <td>0.0</td>\n",
       "      <td>48.0</td>\n",
       "      <td>0.0</td>\n",
       "      <td>0.0</td>\n",
       "      <td>0</td>\n",
       "      <td>48.0</td>\n",
       "      <td>48.0</td>\n",
       "      <td>0.0</td>\n",
       "      <td>23.0</td>\n",
       "    </tr>\n",
       "    <tr>\n",
       "      <th>4</th>\n",
       "      <td>4</td>\n",
       "      <td>14000</td>\n",
       "      <td>14000</td>\n",
       "      <td>60</td>\n",
       "      <td>12.74</td>\n",
       "      <td>316.69</td>\n",
       "      <td>C</td>\n",
       "      <td>4</td>\n",
       "      <td>OWN</td>\n",
       "      <td>40000.0</td>\n",
       "      <td>...</td>\n",
       "      <td>0.0</td>\n",
       "      <td>0.0</td>\n",
       "      <td>0.0</td>\n",
       "      <td>0.0</td>\n",
       "      <td>0.0</td>\n",
       "      <td>0</td>\n",
       "      <td>0.0</td>\n",
       "      <td>0.0</td>\n",
       "      <td>0.0</td>\n",
       "      <td>23.0</td>\n",
       "    </tr>\n",
       "  </tbody>\n",
       "</table>\n",
       "<p>5 rows × 113 columns</p>\n",
       "</div>"
      ],
      "text/plain": [
       "   Unnamed: 0  loan_amnt  funded_amnt  term  int_rate  installment grade  \\\n",
       "0           0      16000        16000    60     12.74       361.93     C   \n",
       "1           1      11875        11875    36     11.44       391.26     B   \n",
       "2           2      26000        26000    60     15.99       632.14     C   \n",
       "3           3      35000        35000    36     19.99      1300.55     D   \n",
       "4           4      14000        14000    60     12.74       316.69     C   \n",
       "\n",
       "   emp_length home_ownership  annual_inc  ...  mths_since_last_delinq  \\\n",
       "0          10       MORTGAGE    130000.0  ...                    42.0   \n",
       "1          10       MORTGAGE     55000.0  ...                    75.0   \n",
       "2          10           RENT     52000.0  ...                     0.0   \n",
       "3          10       MORTGAGE     80000.0  ...                     4.0   \n",
       "4           4            OWN     40000.0  ...                     0.0   \n",
       "\n",
       "   mths_since_last_record  mths_since_last_major_derog  annual_inc_joint  \\\n",
       "0                    79.0                          0.0               0.0   \n",
       "1                     0.0                          0.0               0.0   \n",
       "2                     0.0                          0.0               0.0   \n",
       "3                     0.0                         48.0               0.0   \n",
       "4                     0.0                          0.0               0.0   \n",
       "\n",
       "  dti_joint verification_status_joint  mths_since_recent_bc_dlq  \\\n",
       "0       0.0                         0                       0.0   \n",
       "1       0.0                         0                       0.0   \n",
       "2       0.0                         0                       0.0   \n",
       "3       0.0                         0                      48.0   \n",
       "4       0.0                         0                       0.0   \n",
       "\n",
       "   mths_since_recent_revol_delinq  revol_bal_joint  terms_compl  \n",
       "0                            42.0              0.0         13.0  \n",
       "1                             0.0              0.0         23.0  \n",
       "2                             0.0              0.0         23.0  \n",
       "3                            48.0              0.0         23.0  \n",
       "4                             0.0              0.0         23.0  \n",
       "\n",
       "[5 rows x 113 columns]"
      ]
     },
     "execution_count": 16,
     "metadata": {},
     "output_type": "execute_result"
    }
   ],
   "source": [
    "d=pd.read_csv('preprocess.csv')\n",
    "d.head()"
   ]
  },
  {
   "cell_type": "code",
   "execution_count": 17,
   "metadata": {},
   "outputs": [],
   "source": [
    "d=d[d['loan_status']!=2]"
   ]
  },
  {
   "cell_type": "code",
   "execution_count": 18,
   "metadata": {},
   "outputs": [],
   "source": [
    "cat = d[['term',  'grade','issue_d', 'home_ownership', 'verification_status', 'pymnt_plan', 'purpose', \n",
    "     'addr_state', 'initial_list_status', 'application_type', 'hardship_flag', \n",
    "     'disbursement_method','debt_settlement_flag', 'verification_status_joint']]\n",
    "d1=pd.get_dummies(data=d,columns=cat.columns,drop_first=True)\n",
    "d1.drop('Unnamed: 0',axis=1,inplace=True)"
   ]
  },
  {
   "cell_type": "code",
   "execution_count": null,
   "metadata": {},
   "outputs": [],
   "source": []
  },
  {
   "cell_type": "code",
   "execution_count": 19,
   "metadata": {},
   "outputs": [],
   "source": [
    "d1train=d1[d1['loan_status']!=2]\n",
    "d1current=d1[d1['loan_status']==2]"
   ]
  },
  {
   "cell_type": "code",
   "execution_count": 20,
   "metadata": {},
   "outputs": [],
   "source": [
    "from sklearn.model_selection import train_test_split\n",
    "x=d1train[['funded_amnt', 'int_rate',  'installment',  'emp_length',  'dti',  'earliest_cr_line',  'inq_last_6mths',  \n",
    "'open_acc', 'revol_util',  'total_acc',  'total_rec_prncp',  'total_rec_int',  'last_credit_pull_d',  'acc_now_delinq',  \n",
    "'open_acc_6m',  'open_act_il',  'open_il_24m',  'mths_since_rcnt_il',  'il_util',  'open_rv_12m',  'open_rv_24m',  \n",
    "'max_bal_bc',  'all_util',  'inq_fi',  'inq_last_12m',  'acc_open_past_24mths',  'bc_util',  'delinq_amnt',  \n",
    "'mo_sin_old_il_acct', 'mo_sin_old_rev_tl_op',  'mo_sin_rcnt_rev_tl_op',  'mo_sin_rcnt_tl',  'mort_acc', \n",
    "'mths_since_recent_bc', 'mths_since_recent_inq', 'num_accts_ever_120_pd', 'num_actv_bc_tl',  'num_actv_rev_tl',  \n",
    "'num_bc_sats',  'num_bc_tl',  'num_il_tl',  'num_op_rev_tl', 'num_rev_accts', 'num_rev_tl_bal_gt_0',  'num_sats', \n",
    "'num_tl_90g_dpd_24m',  'num_tl_op_past_12m',  'percent_bc_gt_75', 'pub_rec_bankruptcies',  'sec_app_earliest_cr_line', \n",
    "'sec_app_inq_last_6mths',  'sec_app_mort_acc',  'sec_app_open_acc', 'sec_app_revol_util', 'sec_app_open_act_il',  \n",
    "'sec_app_num_rev_accts',  'sec_app_collections_12_mths_ex_med',  'sec_app_mths_since_last_major_derog',  \n",
    "'mths_since_last_delinq',  'mths_since_last_record',  'mths_since_last_major_derog', 'dti_joint', \n",
    "'mths_since_recent_bc_dlq',  'mths_since_recent_revol_delinq',  'terms_compl',  'grade_B',  'grade_C', 'grade_D',  \n",
    "'grade_E',  'grade_G',  'home_ownership_OWN', 'home_ownership_RENT',  'verification_status_1', 'pymnt_plan_1',\n",
    "'purpose_debt_consolidation', 'purpose_major_purchase', 'purpose_small_business', 'addr_state_AR', \n",
    "'addr_state_CO', 'addr_state_FL', 'addr_state_IL', 'addr_state_IN', 'addr_state_KS', 'addr_state_MA', \n",
    "'addr_state_MD', 'addr_state_MI', 'addr_state_MN', 'addr_state_MO', 'addr_state_MS', 'addr_state_NC', \n",
    "'addr_state_NJ', 'addr_state_NM', 'addr_state_NV', 'addr_state_NY', 'addr_state_OH', 'addr_state_OK', \n",
    "'addr_state_TN', 'addr_state_UT', 'addr_state_VA', 'addr_state_WA', 'addr_state_WI', 'application_type_1', \n",
    "'hardship_flag_1', 'issue_d_2', 'issue_d_3', 'issue_d_4', 'issue_d_5',\n",
    "'issue_d_7', 'issue_d_8', 'issue_d_10', 'issue_d_11', 'issue_d_12', 'total_rec_late_fee']]\n",
    "y=d1train['loan_status']\n",
    "X_train,X_test,y_train,y_test= train_test_split(x,y,test_size=0.3,random_state=1)"
   ]
  },
  {
   "cell_type": "code",
   "execution_count": 21,
   "metadata": {},
   "outputs": [],
   "source": [
    "x=d1train[['terms_compl','total_rec_prncp','last_credit_pull_d','installment','funded_amnt','total_rec_int','dti',\n",
    " 'total_rec_late_fee','int_rate','emp_length']]\n",
    "y=d1train['loan_status']\n",
    "X_train,X_test,y_train,y_test= train_test_split(x,y,test_size=0.3,random_state=1)"
   ]
  },
  {
   "cell_type": "code",
   "execution_count": 8,
   "metadata": {},
   "outputs": [],
   "source": [
    "from lightgbm import LGBMClassifier\n",
    "from sklearn.metrics import confusion_matrix, accuracy_score, roc_auc_score, roc_curve"
   ]
  },
  {
   "cell_type": "code",
   "execution_count": 9,
   "metadata": {},
   "outputs": [
    {
     "name": "stdout",
     "output_type": "stream",
     "text": [
      "Accuracy score of train:  0.9958177434106593\n",
      "Confusion Matrix of train:  [[94668    53]\n",
      " [  450 25099]]\n",
      "Auc of train:  0.9999039384616674\n",
      "Accuracy score of test:  0.9844407799010574\n",
      "Confusion Matrix of test:  [[40445   260]\n",
      " [  542 10298]]\n",
      "Auc of test:  0.998307929295974\n"
     ]
    }
   ],
   "source": [
    "from sklearn.model_selection import RandomizedSearchCV\n",
    "from scipy.stats import randint as sp_randint\n",
    "from scipy.stats import uniform as sp_uniform\n",
    "lgb=LGBMClassifier(learning_rate= 0.1354279030721699,max_depth=13,min_child_samples= 50,n_estimators= 196,num_leaves= 46)\n",
    "lgb.fit(X_train,y_train)\n",
    "y_train_pred=lgb.predict(X_train)\n",
    "y_train_prob=lgb.predict_proba(X_train)[:,1]\n",
    "\n",
    "print('Accuracy score of train: ', accuracy_score(y_train,y_train_pred))\n",
    "print('Confusion Matrix of train: ', confusion_matrix(y_train,y_train_pred))\n",
    "print('Auc of train: ', roc_auc_score(y_train,y_train_prob))\n",
    "\n",
    "y_test_pred=lgb.predict(X_test)\n",
    "y_test_prob=lgb.predict_proba(X_test)[:,1]\n",
    "print('Accuracy score of test: ', accuracy_score(y_test,y_test_pred))\n",
    "print('Confusion Matrix of test: ', confusion_matrix(y_test,y_test_pred))\n",
    "print('Auc of test: ', roc_auc_score(y_test,y_test_prob))"
   ]
  },
  {
   "cell_type": "code",
   "execution_count": 10,
   "metadata": {},
   "outputs": [],
   "source": [
    "import pickle\n",
    "pickle.dump(lgb, open('lendingclub.pkl','wb'))"
   ]
  },
  {
   "cell_type": "code",
   "execution_count": 11,
   "metadata": {},
   "outputs": [
    {
     "name": "stdout",
     "output_type": "stream",
     "text": [
      "[0]\n"
     ]
    }
   ],
   "source": [
    "model = pickle.load(open('lendingclub.pkl','rb'))\n",
    "print(model.predict([[20, 9000, 60,36,12000,1200,0.2,0,12,0]]))"
   ]
  },
  {
   "cell_type": "code",
   "execution_count": 1,
   "metadata": {},
   "outputs": [],
   "source": [
    "import numpy as np\n",
    "from flask import Flask, request, jsonify, render_template\n",
    "import pickle"
   ]
  },
  {
   "cell_type": "code",
   "execution_count": 5,
   "metadata": {},
   "outputs": [
    {
     "name": "stdout",
     "output_type": "stream",
     "text": [
      " * Serving Flask app \"__main__\" (lazy loading)\n",
      " * Environment: production\n",
      "   WARNING: This is a development server. Do not use it in a production deployment.\n",
      "   Use a production WSGI server instead.\n",
      " * Debug mode: on\n"
     ]
    },
    {
     "name": "stderr",
     "output_type": "stream",
     "text": [
      " * Running on http://127.0.0.1:5000/ (Press CTRL+C to quit)\n",
      "127.0.0.1 - - [10/Jun/2020 12:58:10] \"\u001b[37mGET / HTTP/1.1\u001b[0m\" 200 -\n",
      "127.0.0.1 - - [10/Jun/2020 12:58:29] \"\u001b[37mPOST /predict HTTP/1.1\u001b[0m\" 200 -\n"
     ]
    }
   ],
   "source": [
    "app = Flask(__name__,template_folder='templates',static_folder='static')\n",
    "model = pickle.load(open('lendingclub.pkl', 'rb'))\n",
    "@app.route('/')\n",
    "def home():\n",
    "    return render_template('index.html')\n",
    "@app.route('/predict',methods=['POST'])\n",
    "def predict():\n",
    "    '''\n",
    "    For rendering results on HTML GUI\n",
    "    '''\n",
    "    int_features = [float(x) for x in request.form.values()]\n",
    "    final_features = [np.array(int_features)]\n",
    "    prediction = model.predict(final_features)\n",
    "\n",
    "    output = prediction[0]\n",
    "\n",
    "    return render_template('index.html', prediction_text='Future Status of the Customer {}'.format(output))\n",
    "@app.route('/predict_api',methods=['POST'])\n",
    "def predict_api():\n",
    "    '''\n",
    "    For direct API calls trought request\n",
    "    '''\n",
    "    data = request.get_json(force=True)\n",
    "    prediction = model.predict([np.array(list(data.values()))])\n",
    "\n",
    "    output = prediction[0]\n",
    "    return jsonify(output)\n",
    "if __name__ == \"__main__\":\n",
    "    app.run(debug=True,use_reloader=False)"
   ]
  },
  {
   "cell_type": "code",
   "execution_count": null,
   "metadata": {},
   "outputs": [],
   "source": []
  },
  {
   "cell_type": "code",
   "execution_count": 9,
   "metadata": {},
   "outputs": [
    {
     "name": "stdout",
     "output_type": "stream",
     "text": [
      " * Serving Flask app \"__main__\" (lazy loading)\n",
      " * Environment: production\n",
      "   WARNING: This is a development server. Do not use it in a production deployment.\n",
      "   Use a production WSGI server instead.\n",
      " * Debug mode: on\n"
     ]
    },
    {
     "name": "stderr",
     "output_type": "stream",
     "text": [
      " * Running on http://127.0.0.1:5000/ (Press CTRL+C to quit)\n",
      "127.0.0.1 - - [10/Jun/2020 13:47:33] \"\u001b[37mGET / HTTP/1.1\u001b[0m\" 200 -\n",
      "127.0.0.1 - - [10/Jun/2020 13:48:01] \"\u001b[37mPOST /predict HTTP/1.1\u001b[0m\" 200 -\n"
     ]
    }
   ],
   "source": [
    "app = Flask(__name__,template_folder='templates',static_folder='static')\n",
    "model = pickle.load(open('lendingclub.pkl', 'rb'))\n",
    "@app.route('/')\n",
    "def home():\n",
    "    return render_template('index.html')\n",
    "@app.route('/predict',methods=['POST'])\n",
    "def predict():\n",
    "    '''\n",
    "    For rendering results on HTML GUI\n",
    "    '''\n",
    "    int_features = [float(x) for x in request.form.values()]\n",
    "    final_features = [np.array(int_features)]\n",
    "    prediction = model.predict(final_features)\n",
    "    proba=model.predict_proba(final_features)[:,1]\n",
    "    output = prediction[0]\n",
    "    status = lambda output: \"Defaulter\" if output!=0 else \"Non-Defaulter\"\n",
    "    probaout=proba[0]\n",
    "    return render_template('index.html', prediction_text='Future Status of the Customer: {} - {} , Probability: {} '.format(output,status(output),probaout))\n",
    "@app.route('/predict_api',methods=['POST'])\n",
    "def predict_api():\n",
    "    '''\n",
    "    For direct API calls trought request\n",
    "    '''\n",
    "    data = request.get_json(force=True)\n",
    "    prediction = model.predict([np.array(list(data.values()))])\n",
    "    proba=model.predict_proba(final_features)[:,1]\n",
    "    output = prediction[0]\n",
    "    probaout=proba[0]\n",
    "    return jsonify([output,probaout])\n",
    "if __name__ == \"__main__\":\n",
    "    app.run(debug=True,use_reloader=False)"
   ]
  },
  {
   "cell_type": "code",
   "execution_count": null,
   "metadata": {},
   "outputs": [],
   "source": []
  }
 ],
 "metadata": {
  "kernelspec": {
   "display_name": "Python 3",
   "language": "python",
   "name": "python3"
  },
  "language_info": {
   "codemirror_mode": {
    "name": "ipython",
    "version": 3
   },
   "file_extension": ".py",
   "mimetype": "text/x-python",
   "name": "python",
   "nbconvert_exporter": "python",
   "pygments_lexer": "ipython3",
   "version": "3.7.4"
  }
 },
 "nbformat": 4,
 "nbformat_minor": 2
}
